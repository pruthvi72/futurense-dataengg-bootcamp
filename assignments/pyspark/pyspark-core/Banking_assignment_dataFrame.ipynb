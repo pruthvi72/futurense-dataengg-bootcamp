{
 "cells": [
  {
   "cell_type": "code",
   "execution_count": 44,
   "id": "c3a52820",
   "metadata": {},
   "outputs": [],
   "source": [
    "from pyspark.sql import SparkSession\n",
    "\n",
    "from pyspark.sql.functions import *\n",
    "\n",
    "from pyspark.sql import *"
   ]
  },
  {
   "cell_type": "code",
   "execution_count": 3,
   "id": "7d0c5983",
   "metadata": {},
   "outputs": [],
   "source": [
    "spark = SparkSession.builder.appName('df-banking').getOrCreate()"
   ]
  },
  {
   "cell_type": "code",
   "execution_count": 18,
   "id": "5813ba5e",
   "metadata": {},
   "outputs": [],
   "source": [
    "df = spark.read.csv(path = r\"C:\\Users\\miles.MILE-BL-4492-LA\\Downloads\\bankmarketdata.csv\", header=True, sep = \";\", escape = \",\", inferSchema = True )"
   ]
  },
  {
   "cell_type": "code",
   "execution_count": 48,
   "id": "02c2662a",
   "metadata": {},
   "outputs": [
    {
     "name": "stdout",
     "output_type": "stream",
     "text": [
      "+---+-------+\n",
      "|age|balance|\n",
      "+---+-------+\n",
      "| 58|   2143|\n",
      "| 44|     29|\n",
      "| 33|      2|\n",
      "| 47|   1506|\n",
      "| 33|      1|\n",
      "| 35|    231|\n",
      "| 28|    447|\n",
      "| 42|      2|\n",
      "| 58|    121|\n",
      "| 43|    593|\n",
      "| 41|    270|\n",
      "| 29|    390|\n",
      "| 53|      6|\n",
      "| 58|     71|\n",
      "| 57|    162|\n",
      "| 51|    229|\n",
      "| 45|     13|\n",
      "| 57|     52|\n",
      "| 60|     60|\n",
      "| 33|      0|\n",
      "+---+-------+\n",
      "only showing top 20 rows\n",
      "\n"
     ]
    }
   ],
   "source": [
    "df.select('age', 'balance').show()"
   ]
  },
  {
   "cell_type": "code",
   "execution_count": 20,
   "id": "97f8e3af",
   "metadata": {},
   "outputs": [
    {
     "name": "stdout",
     "output_type": "stream",
     "text": [
      "root\n",
      " |-- age: integer (nullable = true)\n",
      " |-- job: string (nullable = true)\n",
      " |-- marital: string (nullable = true)\n",
      " |-- education: string (nullable = true)\n",
      " |-- default: string (nullable = true)\n",
      " |-- balance: integer (nullable = true)\n",
      " |-- housing: string (nullable = true)\n",
      " |-- loan: string (nullable = true)\n",
      " |-- contact: string (nullable = true)\n",
      " |-- day: integer (nullable = true)\n",
      " |-- month: string (nullable = true)\n",
      " |-- duration: integer (nullable = true)\n",
      " |-- campaign: integer (nullable = true)\n",
      " |-- pdays: integer (nullable = true)\n",
      " |-- previous: integer (nullable = true)\n",
      " |-- poutcome: string (nullable = true)\n",
      " |-- y: string (nullable = true)\n",
      "\n"
     ]
    }
   ],
   "source": [
    "df.printSchema()"
   ]
  },
  {
   "cell_type": "code",
   "execution_count": 24,
   "id": "8dc4ca23",
   "metadata": {},
   "outputs": [
    {
     "data": {
      "text/plain": [
       "45211"
      ]
     },
     "execution_count": 24,
     "metadata": {},
     "output_type": "execute_result"
    }
   ],
   "source": [
    "#1\n",
    "count = df.count()\n",
    "count"
   ]
  },
  {
   "cell_type": "code",
   "execution_count": 29,
   "id": "09f55695",
   "metadata": {},
   "outputs": [],
   "source": [
    "df1 = df[df['y'] == 'yes']\n",
    "count_yes = df1.count()"
   ]
  },
  {
   "cell_type": "code",
   "execution_count": 33,
   "id": "a3be4813",
   "metadata": {},
   "outputs": [
    {
     "data": {
      "text/plain": [
       "11.698480458295547"
      ]
     },
     "execution_count": 33,
     "metadata": {},
     "output_type": "execute_result"
    }
   ],
   "source": [
    "success_rate = count_yes/count\n",
    "success_rate*100"
   ]
  },
  {
   "cell_type": "code",
   "execution_count": 34,
   "id": "5e0ecebf",
   "metadata": {},
   "outputs": [],
   "source": [
    "#2\n",
    "df2 = df[df['y'] == 'no']\n",
    "count_no = df2.count()"
   ]
  },
  {
   "cell_type": "code",
   "execution_count": 36,
   "id": "f229cc92",
   "metadata": {},
   "outputs": [
    {
     "data": {
      "text/plain": [
       "88.30151954170445"
      ]
     },
     "execution_count": 36,
     "metadata": {},
     "output_type": "execute_result"
    }
   ],
   "source": [
    "failure_rate = count_no/count\n",
    "failure_rate*100"
   ]
  },
  {
   "cell_type": "code",
   "execution_count": 45,
   "id": "66cb197b",
   "metadata": {},
   "outputs": [
    {
     "name": "stdout",
     "output_type": "stream",
     "text": [
      "+--------+\n",
      "|max(age)|\n",
      "+--------+\n",
      "|      95|\n",
      "+--------+\n",
      "\n"
     ]
    }
   ],
   "source": [
    "#3\n",
    "df.select(max(df.age)).show()"
   ]
  },
  {
   "cell_type": "code",
   "execution_count": 46,
   "id": "76e48425",
   "metadata": {},
   "outputs": [
    {
     "name": "stdout",
     "output_type": "stream",
     "text": [
      "+--------+\n",
      "|min(age)|\n",
      "+--------+\n",
      "|      18|\n",
      "+--------+\n",
      "\n"
     ]
    }
   ],
   "source": [
    "df.select(min(df.age)).show()"
   ]
  },
  {
   "cell_type": "code",
   "execution_count": 47,
   "id": "5aa12740",
   "metadata": {},
   "outputs": [
    {
     "name": "stdout",
     "output_type": "stream",
     "text": [
      "+-----------------+\n",
      "|         avg(age)|\n",
      "+-----------------+\n",
      "|40.93621021432837|\n",
      "+-----------------+\n",
      "\n"
     ]
    }
   ],
   "source": [
    "df.select(mean(df.age)).show()"
   ]
  },
  {
   "cell_type": "code",
   "execution_count": 49,
   "id": "1999cf50",
   "metadata": {},
   "outputs": [
    {
     "name": "stdout",
     "output_type": "stream",
     "text": [
      "+------------------+\n",
      "|      avg(balance)|\n",
      "+------------------+\n",
      "|1362.2720576850766|\n",
      "+------------------+\n",
      "\n"
     ]
    }
   ],
   "source": [
    "#4\n",
    "df.select(mean(df.balance)).show()"
   ]
  },
  {
   "cell_type": "code",
   "execution_count": 61,
   "id": "89a94982",
   "metadata": {},
   "outputs": [
    {
     "data": {
      "text/plain": [
       "[448.0]"
      ]
     },
     "execution_count": 61,
     "metadata": {},
     "output_type": "execute_result"
    }
   ],
   "source": [
    "df.approxQuantile('balance', [0.5], 0)"
   ]
  },
  {
   "cell_type": "code",
   "execution_count": 55,
   "id": "3a130cb0",
   "metadata": {},
   "outputs": [
    {
     "name": "stdout",
     "output_type": "stream",
     "text": [
      "+---+-----+\n",
      "|age|count|\n",
      "+---+-----+\n",
      "| 31|  206|\n",
      "| 85|    4|\n",
      "| 65|   21|\n",
      "| 53|   85|\n",
      "| 78|   14|\n",
      "| 34|  198|\n",
      "| 28|  162|\n",
      "| 76|   16|\n",
      "| 26|  134|\n",
      "| 27|  141|\n",
      "| 44|   93|\n",
      "| 22|   40|\n",
      "| 47|  113|\n",
      "| 52|   85|\n",
      "| 40|  116|\n",
      "| 20|   15|\n",
      "| 57|   78|\n",
      "| 54|   84|\n",
      "| 48|   82|\n",
      "| 19|   11|\n",
      "+---+-----+\n",
      "only showing top 20 rows\n",
      "\n"
     ]
    }
   ],
   "source": [
    "#5\n",
    "df1.groupBy('age').count().show()"
   ]
  },
  {
   "cell_type": "code",
   "execution_count": 56,
   "id": "c094eef5",
   "metadata": {},
   "outputs": [
    {
     "name": "stdout",
     "output_type": "stream",
     "text": [
      "+--------+-----+\n",
      "| marital|count|\n",
      "+--------+-----+\n",
      "|divorced|  622|\n",
      "| married| 2755|\n",
      "|  single| 1912|\n",
      "+--------+-----+\n",
      "\n"
     ]
    }
   ],
   "source": [
    "#6\n",
    "df1.groupBy('marital').count().show()"
   ]
  },
  {
   "cell_type": "code",
   "execution_count": 57,
   "id": "faf42c55",
   "metadata": {},
   "outputs": [
    {
     "name": "stdout",
     "output_type": "stream",
     "text": [
      "+---+--------+-----+\n",
      "|age| marital|count|\n",
      "+---+--------+-----+\n",
      "| 42|  single|   22|\n",
      "| 66| married|   22|\n",
      "| 28| married|   20|\n",
      "| 59| married|   66|\n",
      "| 61| married|   47|\n",
      "| 21|  single|   21|\n",
      "| 29|  single|  133|\n",
      "| 70|divorced|    5|\n",
      "| 56|  single|    6|\n",
      "| 74| married|   11|\n",
      "| 64|divorced|    4|\n",
      "| 40|  single|   31|\n",
      "| 45|  single|   14|\n",
      "| 69| married|   13|\n",
      "| 77| married|   19|\n",
      "| 57|divorced|   15|\n",
      "| 21| married|    1|\n",
      "| 53| married|   60|\n",
      "| 53|divorced|   18|\n",
      "| 33| married|   97|\n",
      "+---+--------+-----+\n",
      "only showing top 20 rows\n",
      "\n"
     ]
    }
   ],
   "source": [
    "#7\n",
    "df1.groupBy('age','marital').count().show()"
   ]
  },
  {
   "cell_type": "code",
   "execution_count": null,
   "id": "3fc59559",
   "metadata": {},
   "outputs": [],
   "source": []
  }
 ],
 "metadata": {
  "kernelspec": {
   "display_name": "Python 3 (ipykernel)",
   "language": "python",
   "name": "python3"
  },
  "language_info": {
   "codemirror_mode": {
    "name": "ipython",
    "version": 3
   },
   "file_extension": ".py",
   "mimetype": "text/x-python",
   "name": "python",
   "nbconvert_exporter": "python",
   "pygments_lexer": "ipython3",
   "version": "3.10.9"
  }
 },
 "nbformat": 4,
 "nbformat_minor": 5
}
